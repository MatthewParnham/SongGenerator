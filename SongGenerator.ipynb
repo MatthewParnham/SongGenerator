{
 "cells": [
  {
   "cell_type": "code",
   "execution_count": 1,
   "metadata": {},
   "outputs": [],
   "source": [
    "lyrics = open('test.txt','r')"
   ]
  },
  {
   "cell_type": "code",
   "execution_count": null,
   "metadata": {},
   "outputs": [],
   "source": []
  },
  {
   "cell_type": "code",
   "execution_count": 2,
   "metadata": {},
   "outputs": [
    {
     "name": "stdout",
     "output_type": "stream",
     "text": [
      "{'the': 0.21428571428571427, 'quick': 0.07142857142857142, 'brown': 0.07142857142857142, 'fox': 0.07142857142857142, 'jumped': 0.07142857142857142, 'over': 0.07142857142857142, 'lazy': 0.07142857142857142, 'dog': 0.07142857142857142, 'and': 0.07142857142857142, 'ran': 0.07142857142857142, 'into': 0.07142857142857142, 'woods': 0.07142857142857142}\n"
     ]
    }
   ],
   "source": [
    "vocab = {}\n",
    "model = {}\n",
    "for line in lyrics:\n",
    "    splitLine = line.split()\n",
    "    for word in splitLine:\n",
    "        word = word.lower()\n",
    "        if word in vocab.keys():\n",
    "            vocab[word] += 1\n",
    "        else:\n",
    "            model[word] = {}\n",
    "            vocab[word] = 1\n",
    "\n",
    "vocabCount = 0\n",
    "for v in vocab.values():\n",
    "    vocabCount += v\n",
    "for k,v in vocab.items():\n",
    "    vocab[k] = v / vocabCount\n",
    "    \n",
    "print(vocab)"
   ]
  },
  {
   "cell_type": "code",
   "execution_count": 3,
   "metadata": {},
   "outputs": [],
   "source": [
    "lyrics.close()"
   ]
  },
  {
   "cell_type": "code",
   "execution_count": 4,
   "metadata": {},
   "outputs": [],
   "source": [
    "lyrics = open('test.txt','r')"
   ]
  },
  {
   "cell_type": "code",
   "execution_count": 5,
   "metadata": {},
   "outputs": [],
   "source": [
    "for line in lyrics:\n",
    "    splitLine = line.split()\n",
    "    if len(splitLine) == 0:\n",
    "        continue\n",
    "    for i in range(len(splitLine) - 1):\n",
    "        word = splitLine[i].lower()\n",
    "        nextWord = splitLine[i + 1].lower()\n",
    "        if nextWord in model[word].keys():\n",
    "            model[word][nextWord] += 1\n",
    "        else:\n",
    "            model[word][nextWord] = 1\n"
   ]
  },
  {
   "cell_type": "code",
   "execution_count": 6,
   "metadata": {},
   "outputs": [],
   "source": [
    "# convert 'birgrams' to probabilities\n",
    "for k,v in model.items():\n",
    "    count = 0\n",
    "    \n",
    "    for q in model[k].values():\n",
    "        count += q\n",
    "    for p,q in model[k].items():\n",
    "        model[k][p] = q / count"
   ]
  },
  {
   "cell_type": "code",
   "execution_count": 7,
   "metadata": {},
   "outputs": [
    {
     "name": "stdout",
     "output_type": "stream",
     "text": [
      "{'the': {'quick': 0.5, 'woods': 0.5}, 'quick': {'brown': 1.0}, 'brown': {'fox': 1.0}, 'fox': {'jumped': 1.0}, 'jumped': {'over': 1.0}, 'over': {'the': 1.0}, 'lazy': {'dog': 1.0}, 'dog': {'and': 1.0}, 'and': {'ran': 1.0}, 'ran': {'into': 1.0}, 'into': {'the': 1.0}, 'woods': {}}\n"
     ]
    }
   ],
   "source": [
    "print(model)"
   ]
  },
  {
   "cell_type": "code",
   "execution_count": 8,
   "metadata": {},
   "outputs": [
    {
     "name": "stdout",
     "output_type": "stream",
     "text": [
      "i\n"
     ]
    }
   ],
   "source": [
    "import random as r\n",
    "\n",
    "wordList = list(vocab.keys())\n",
    "firstWord = wordList[r.randint(0,len(vocab))]\n",
    "firstWord = 'i'\n",
    "print(firstWord)"
   ]
  },
  {
   "cell_type": "code",
   "execution_count": 9,
   "metadata": {},
   "outputs": [
    {
     "ename": "KeyError",
     "evalue": "'i'",
     "output_type": "error",
     "traceback": [
      "\u001b[1;31m---------------------------------------------------------------------------\u001b[0m",
      "\u001b[1;31mKeyError\u001b[0m                                  Traceback (most recent call last)",
      "\u001b[1;32m<ipython-input-9-c146e9d2abfa>\u001b[0m in \u001b[0;36m<module>\u001b[1;34m\u001b[0m\n\u001b[0;32m      8\u001b[0m     \u001b[1;31m#print(\"'\" + currWord + \"'\")\u001b[0m\u001b[1;33m\u001b[0m\u001b[1;33m\u001b[0m\u001b[1;33m\u001b[0m\u001b[0m\n\u001b[0;32m      9\u001b[0m \u001b[1;33m\u001b[0m\u001b[0m\n\u001b[1;32m---> 10\u001b[1;33m     \u001b[1;32mfor\u001b[0m \u001b[0mk\u001b[0m\u001b[1;33m,\u001b[0m\u001b[0mv\u001b[0m \u001b[1;32min\u001b[0m \u001b[0mmodel\u001b[0m\u001b[1;33m[\u001b[0m\u001b[0mcurrWord\u001b[0m\u001b[1;33m]\u001b[0m\u001b[1;33m.\u001b[0m\u001b[0mitems\u001b[0m\u001b[1;33m(\u001b[0m\u001b[1;33m)\u001b[0m\u001b[1;33m:\u001b[0m\u001b[1;33m\u001b[0m\u001b[1;33m\u001b[0m\u001b[0m\n\u001b[0m\u001b[0;32m     11\u001b[0m         \u001b[0mprob\u001b[0m \u001b[1;33m+=\u001b[0m \u001b[0mv\u001b[0m\u001b[1;33m\u001b[0m\u001b[1;33m\u001b[0m\u001b[0m\n\u001b[0;32m     12\u001b[0m         \u001b[1;32mif\u001b[0m \u001b[0mrandFloat\u001b[0m \u001b[1;33m<\u001b[0m \u001b[0mprob\u001b[0m\u001b[1;33m:\u001b[0m\u001b[1;33m\u001b[0m\u001b[1;33m\u001b[0m\u001b[0m\n",
      "\u001b[1;31mKeyError\u001b[0m: 'i'"
     ]
    }
   ],
   "source": [
    "#subsequent words\n",
    "currWord = firstWord\n",
    "song = firstWord\n",
    "for i in range(100):\n",
    "    randFloat = r.uniform(0,1)\n",
    "    prob = 0\n",
    "    nextWord = \"\"\n",
    "    #print(\"'\" + currWord + \"'\")\n",
    "    \n",
    "    for k,v in model[currWord].items():\n",
    "        prob += v\n",
    "        if randFloat < prob:\n",
    "            nextWord = k\n",
    "            break\n",
    "    song += \" \" + nextWord\n",
    "    #print(song)\n",
    "    currWord = nextWord\n",
    "    \n",
    "print(song)"
   ]
  },
  {
   "cell_type": "code",
   "execution_count": null,
   "metadata": {},
   "outputs": [],
   "source": []
  },
  {
   "cell_type": "code",
   "execution_count": null,
   "metadata": {},
   "outputs": [],
   "source": []
  }
 ],
 "metadata": {
  "kernelspec": {
   "display_name": "Python 3",
   "language": "python",
   "name": "python3"
  },
  "language_info": {
   "codemirror_mode": {
    "name": "ipython",
    "version": 3
   },
   "file_extension": ".py",
   "mimetype": "text/x-python",
   "name": "python",
   "nbconvert_exporter": "python",
   "pygments_lexer": "ipython3",
   "version": "3.7.4"
  }
 },
 "nbformat": 4,
 "nbformat_minor": 2
}
