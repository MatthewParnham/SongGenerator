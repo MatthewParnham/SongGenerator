{
 "cells": [
  {
   "cell_type": "code",
   "execution_count": 1,
   "metadata": {},
   "outputs": [],
   "source": [
    "# Read the file in \n",
    "lyrics = open('B182_Lyrics.txt','r')"
   ]
  },
  {
   "cell_type": "code",
   "execution_count": 2,
   "metadata": {},
   "outputs": [],
   "source": [
    "import string\n",
    "\n",
    "vocab = {}\n",
    "model = {}\n",
    "lyricString = ''\n",
    "\n",
    "# Cleaning up text for whitespace/newline\n",
    "for line in lyrics:\n",
    "    lyricString += line + \" \"\n",
    "lyricString = lyricString.replace(\"\\n\", \"\")\n",
    "line = lyricString.translate(str.maketrans('','',string.punctuation))\n",
    "splitLine = line.split()\n",
    "\n",
    "# Filling in vocab with number of word occuraces\n",
    "for word in splitLine:\n",
    "    word = word.lower()\n",
    "    if word in vocab.keys():\n",
    "        vocab[word] += 1\n",
    "    else:\n",
    "        model[word] = {}\n",
    "        vocab[word] = 1\n",
    "\n",
    "# Converting count values to probabilities in vocab\n",
    "vocabCount = 0\n",
    "for v in vocab.values():\n",
    "    vocabCount += v\n",
    "for k,v in vocab.items():\n",
    "    vocab[k] = v / vocabCount"
   ]
  },
  {
   "cell_type": "code",
   "execution_count": 3,
   "metadata": {},
   "outputs": [],
   "source": [
    "lyrics.close()"
   ]
  },
  {
   "cell_type": "code",
   "execution_count": 4,
   "metadata": {},
   "outputs": [],
   "source": [
    "# Re-open file to refresh\n",
    "lyrics = open('B182_Lyrics.txt','r')"
   ]
  },
  {
   "cell_type": "code",
   "execution_count": 5,
   "metadata": {},
   "outputs": [],
   "source": [
    "lyricString = ''\n",
    "\n",
    "# Cleaning up text for whitespace/newline\n",
    "for line in lyrics:\n",
    "    lyricString += line + \" \"\n",
    "lyricString = lyricString.replace(\"\\n\", \"\")\n",
    "line = lyricString.translate(str.maketrans('','',string.punctuation))\n",
    "splitLine = line.split()\n",
    "\n",
    "# Filling in model dictionary with counts of word occurances with one another\n",
    "for i in range(len(splitLine) - 1):\n",
    "    word = splitLine[i].lower()\n",
    "    nextWord = splitLine[i + 1].lower()\n",
    "\n",
    "    if nextWord in model[word].keys():\n",
    "        model[word][nextWord] += 1\n",
    "    else:\n",
    "        model[word][nextWord] = 1"
   ]
  },
  {
   "cell_type": "code",
   "execution_count": 6,
   "metadata": {},
   "outputs": [],
   "source": [
    "# Convert bigrams to probabilities in model\n",
    "for k,v in model.items():\n",
    "    count = 0\n",
    "    \n",
    "    for q in model[k].values():\n",
    "        count += q\n",
    "    for p,q in model[k].items():\n",
    "        model[k][p] = q / count"
   ]
  },
  {
   "cell_type": "code",
   "execution_count": 7,
   "metadata": {},
   "outputs": [
    {
     "name": "stdout",
     "output_type": "stream",
     "text": [
      "hobby i wake up without all i stop to be the children grew up and stop to blind to a load in bar fights i swear ill see myself can i know its just seem to laugh at everything everythings gonna be on the body of your shoes and gone i dont know that he to hurt you tonight and now im a friend someone that it left alone now that filthy white inbred ive been here tomorrow another i belong dont bide your butt well drive and a bong killed a long can see that i dont want to talk to be more lonely nights getting older and gentlemen for something i dont pull me the fool week he fell through nothing i never felt so alone i can i belong i wish that they hurried she fell through me once before so alone you theres not to move it is this is to bed and i blew it is lies thats all alone watching your shoes just your aggressions because youâ€™re grinding your pictures are you expect of luck cause i was a hobby i fall in love and ill get all those special things id keep it seems\n"
     ]
    }
   ],
   "source": [
    "import random as r\n",
    "\n",
    "# Generating a random first word\n",
    "wordList = list(vocab.keys())\n",
    "firstWord = wordList[r.randint(0,len(vocab))]\n",
    "\n",
    "# Subsequent words\n",
    "currWord = firstWord\n",
    "song = firstWord\n",
    "for i in range(200):\n",
    "    randFloat = r.uniform(0,1)\n",
    "    prob = 0\n",
    "    nextWord = \"\"\n",
    "    \n",
    "    for k,v in model[currWord].items():\n",
    "        prob += v\n",
    "        if randFloat < prob:\n",
    "            nextWord = k\n",
    "            break\n",
    "    song += \" \" + nextWord\n",
    "    currWord = nextWord\n",
    "    \n",
    "print(song)"
   ]
  },
  {
   "cell_type": "code",
   "execution_count": null,
   "metadata": {},
   "outputs": [],
   "source": []
  }
 ],
 "metadata": {
  "kernelspec": {
   "display_name": "Python 3",
   "language": "python",
   "name": "python3"
  },
  "language_info": {
   "codemirror_mode": {
    "name": "ipython",
    "version": 3
   },
   "file_extension": ".py",
   "mimetype": "text/x-python",
   "name": "python",
   "nbconvert_exporter": "python",
   "pygments_lexer": "ipython3",
   "version": "3.6.8"
  }
 },
 "nbformat": 4,
 "nbformat_minor": 2
}
